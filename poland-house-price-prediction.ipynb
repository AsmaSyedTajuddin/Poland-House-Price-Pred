{
 "cells": [
  {
   "cell_type": "markdown",
   "metadata": {
    "papermill": {
     "duration": 0.012854,
     "end_time": "2021-03-10T03:13:29.176441",
     "exception": false,
     "start_time": "2021-03-10T03:13:29.163587",
     "status": "completed"
    },
    "tags": []
   },
   "source": [
    "# Task for Today  \n",
    "\n",
    "***\n",
    "\n",
    "## Poland House Price Prediction  \n",
    "\n",
    "Given *data about houses in Poland*, let's try to predict the **price** of a given house.\n",
    "\n",
    "We will use a gradient boosting regression model to make our predictions."
   ]
  },
  {
   "cell_type": "markdown",
   "metadata": {
    "papermill": {
     "duration": 0.011041,
     "end_time": "2021-03-10T03:13:29.199206",
     "exception": false,
     "start_time": "2021-03-10T03:13:29.188165",
     "status": "completed"
    },
    "tags": []
   },
   "source": [
    "# Getting Started"
   ]
  },
  {
   "cell_type": "code",
   "execution_count": 1,
   "metadata": {
    "execution": {
     "iopub.execute_input": "2021-03-10T03:13:29.229660Z",
     "iopub.status.busy": "2021-03-10T03:13:29.228911Z",
     "iopub.status.idle": "2021-03-10T03:13:30.919470Z",
     "shell.execute_reply": "2021-03-10T03:13:30.918752Z"
    },
    "papermill": {
     "duration": 1.708708,
     "end_time": "2021-03-10T03:13:30.919678",
     "exception": false,
     "start_time": "2021-03-10T03:13:29.210970",
     "status": "completed"
    },
    "tags": []
   },
   "outputs": [],
   "source": [
    "import numpy as np\n",
    "import pandas as pd\n",
    "\n",
    "from sklearn.model_selection import train_test_split\n",
    "from sklearn.preprocessing import OneHotEncoder, StandardScaler\n",
    "from sklearn.compose import ColumnTransformer\n",
    "from sklearn.pipeline import Pipeline\n",
    "\n",
    "from sklearn.ensemble import GradientBoostingRegressor"
   ]
  },
  {
   "cell_type": "code",
   "execution_count": 2,
   "metadata": {
    "execution": {
     "iopub.execute_input": "2021-03-10T03:13:30.946856Z",
     "iopub.status.busy": "2021-03-10T03:13:30.946119Z",
     "iopub.status.idle": "2021-03-10T03:13:31.054756Z",
     "shell.execute_reply": "2021-03-10T03:13:31.055320Z"
    },
    "papermill": {
     "duration": 0.124962,
     "end_time": "2021-03-10T03:13:31.055551",
     "exception": false,
     "start_time": "2021-03-10T03:13:30.930589",
     "status": "completed"
    },
    "tags": []
   },
   "outputs": [],
   "source": [
    "data = pd.read_csv('../input/house-prices-in-poland/Houses.csv', encoding='latin-1')"
   ]
  },
  {
   "cell_type": "code",
   "execution_count": 3,
   "metadata": {
    "execution": {
     "iopub.execute_input": "2021-03-10T03:13:31.099670Z",
     "iopub.status.busy": "2021-03-10T03:13:31.098878Z",
     "iopub.status.idle": "2021-03-10T03:13:31.133307Z",
     "shell.execute_reply": "2021-03-10T03:13:31.133855Z"
    },
    "papermill": {
     "duration": 0.066813,
     "end_time": "2021-03-10T03:13:31.134036",
     "exception": false,
     "start_time": "2021-03-10T03:13:31.067223",
     "status": "completed"
    },
    "tags": []
   },
   "outputs": [
    {
     "data": {
      "text/html": [
       "<div>\n",
       "<style scoped>\n",
       "    .dataframe tbody tr th:only-of-type {\n",
       "        vertical-align: middle;\n",
       "    }\n",
       "\n",
       "    .dataframe tbody tr th {\n",
       "        vertical-align: top;\n",
       "    }\n",
       "\n",
       "    .dataframe thead th {\n",
       "        text-align: right;\n",
       "    }\n",
       "</style>\n",
       "<table border=\"1\" class=\"dataframe\">\n",
       "  <thead>\n",
       "    <tr style=\"text-align: right;\">\n",
       "      <th></th>\n",
       "      <th>Unnamed: 0</th>\n",
       "      <th>address</th>\n",
       "      <th>city</th>\n",
       "      <th>floor</th>\n",
       "      <th>id</th>\n",
       "      <th>latitude</th>\n",
       "      <th>longitude</th>\n",
       "      <th>price</th>\n",
       "      <th>rooms</th>\n",
       "      <th>sq</th>\n",
       "      <th>year</th>\n",
       "    </tr>\n",
       "  </thead>\n",
       "  <tbody>\n",
       "    <tr>\n",
       "      <th>0</th>\n",
       "      <td>0</td>\n",
       "      <td>Podgórze Zab³ocie Stanis³awa Klimeckiego</td>\n",
       "      <td>Kraków</td>\n",
       "      <td>2.0</td>\n",
       "      <td>23918.0</td>\n",
       "      <td>50.049224</td>\n",
       "      <td>19.970379</td>\n",
       "      <td>749000.0</td>\n",
       "      <td>3.0</td>\n",
       "      <td>74.05</td>\n",
       "      <td>2021.0</td>\n",
       "    </tr>\n",
       "    <tr>\n",
       "      <th>1</th>\n",
       "      <td>1</td>\n",
       "      <td>Praga-Po³udnie Grochowska</td>\n",
       "      <td>Warszawa</td>\n",
       "      <td>3.0</td>\n",
       "      <td>17828.0</td>\n",
       "      <td>52.249775</td>\n",
       "      <td>21.106886</td>\n",
       "      <td>240548.0</td>\n",
       "      <td>1.0</td>\n",
       "      <td>24.38</td>\n",
       "      <td>2021.0</td>\n",
       "    </tr>\n",
       "    <tr>\n",
       "      <th>2</th>\n",
       "      <td>2</td>\n",
       "      <td>Krowodrza Czarnowiejska</td>\n",
       "      <td>Kraków</td>\n",
       "      <td>2.0</td>\n",
       "      <td>22784.0</td>\n",
       "      <td>50.066964</td>\n",
       "      <td>19.920025</td>\n",
       "      <td>427000.0</td>\n",
       "      <td>2.0</td>\n",
       "      <td>37.00</td>\n",
       "      <td>1970.0</td>\n",
       "    </tr>\n",
       "    <tr>\n",
       "      <th>3</th>\n",
       "      <td>3</td>\n",
       "      <td>Grunwald</td>\n",
       "      <td>Poznañ</td>\n",
       "      <td>2.0</td>\n",
       "      <td>4315.0</td>\n",
       "      <td>52.404212</td>\n",
       "      <td>16.882542</td>\n",
       "      <td>1290000.0</td>\n",
       "      <td>5.0</td>\n",
       "      <td>166.00</td>\n",
       "      <td>1935.0</td>\n",
       "    </tr>\n",
       "    <tr>\n",
       "      <th>4</th>\n",
       "      <td>4</td>\n",
       "      <td>Ochota Gotowy budynek. Stan deweloperski. Osta...</td>\n",
       "      <td>Warszawa</td>\n",
       "      <td>1.0</td>\n",
       "      <td>11770.0</td>\n",
       "      <td>52.212225</td>\n",
       "      <td>20.972630</td>\n",
       "      <td>996000.0</td>\n",
       "      <td>5.0</td>\n",
       "      <td>105.00</td>\n",
       "      <td>2020.0</td>\n",
       "    </tr>\n",
       "    <tr>\n",
       "      <th>...</th>\n",
       "      <td>...</td>\n",
       "      <td>...</td>\n",
       "      <td>...</td>\n",
       "      <td>...</td>\n",
       "      <td>...</td>\n",
       "      <td>...</td>\n",
       "      <td>...</td>\n",
       "      <td>...</td>\n",
       "      <td>...</td>\n",
       "      <td>...</td>\n",
       "      <td>...</td>\n",
       "    </tr>\n",
       "    <tr>\n",
       "      <th>23759</th>\n",
       "      <td>23759</td>\n",
       "      <td>Stare Miasto Naramowice</td>\n",
       "      <td>Poznañ</td>\n",
       "      <td>0.0</td>\n",
       "      <td>3976.0</td>\n",
       "      <td>52.449649</td>\n",
       "      <td>16.949408</td>\n",
       "      <td>543000.0</td>\n",
       "      <td>4.0</td>\n",
       "      <td>77.00</td>\n",
       "      <td>2020.0</td>\n",
       "    </tr>\n",
       "    <tr>\n",
       "      <th>23760</th>\n",
       "      <td>23760</td>\n",
       "      <td>W³ochy</td>\n",
       "      <td>Warszawa</td>\n",
       "      <td>4.0</td>\n",
       "      <td>10206.0</td>\n",
       "      <td>52.186109</td>\n",
       "      <td>20.948438</td>\n",
       "      <td>910000.0</td>\n",
       "      <td>3.0</td>\n",
       "      <td>71.00</td>\n",
       "      <td>2017.0</td>\n",
       "    </tr>\n",
       "    <tr>\n",
       "      <th>23761</th>\n",
       "      <td>23761</td>\n",
       "      <td>Nowe Miasto Malta ul. Katowicka</td>\n",
       "      <td>Poznañ</td>\n",
       "      <td>0.0</td>\n",
       "      <td>4952.0</td>\n",
       "      <td>52.397345</td>\n",
       "      <td>16.961939</td>\n",
       "      <td>430695.0</td>\n",
       "      <td>3.0</td>\n",
       "      <td>50.67</td>\n",
       "      <td>2022.0</td>\n",
       "    </tr>\n",
       "    <tr>\n",
       "      <th>23762</th>\n",
       "      <td>23762</td>\n",
       "      <td>Podgórze Duchackie Walerego S³awka</td>\n",
       "      <td>Kraków</td>\n",
       "      <td>6.0</td>\n",
       "      <td>24148.0</td>\n",
       "      <td>50.024231</td>\n",
       "      <td>19.959569</td>\n",
       "      <td>359000.0</td>\n",
       "      <td>2.0</td>\n",
       "      <td>38.86</td>\n",
       "      <td>2021.0</td>\n",
       "    </tr>\n",
       "    <tr>\n",
       "      <th>23763</th>\n",
       "      <td>23763</td>\n",
       "      <td>Ursynów</td>\n",
       "      <td>Warszawa</td>\n",
       "      <td>2.0</td>\n",
       "      <td>10889.0</td>\n",
       "      <td>52.141039</td>\n",
       "      <td>21.032321</td>\n",
       "      <td>604800.0</td>\n",
       "      <td>3.0</td>\n",
       "      <td>63.00</td>\n",
       "      <td>1978.0</td>\n",
       "    </tr>\n",
       "  </tbody>\n",
       "</table>\n",
       "<p>23764 rows × 11 columns</p>\n",
       "</div>"
      ],
      "text/plain": [
       "       Unnamed: 0                                            address  \\\n",
       "0               0           Podgórze Zab³ocie Stanis³awa Klimeckiego   \n",
       "1               1                          Praga-Po³udnie Grochowska   \n",
       "2               2                            Krowodrza Czarnowiejska   \n",
       "3               3                                           Grunwald   \n",
       "4               4  Ochota Gotowy budynek. Stan deweloperski. Osta...   \n",
       "...           ...                                                ...   \n",
       "23759       23759                            Stare Miasto Naramowice   \n",
       "23760       23760                                             W³ochy   \n",
       "23761       23761                    Nowe Miasto Malta ul. Katowicka   \n",
       "23762       23762                 Podgórze Duchackie Walerego S³awka   \n",
       "23763       23763                                            Ursynów   \n",
       "\n",
       "           city  floor       id   latitude  longitude      price  rooms  \\\n",
       "0        Kraków    2.0  23918.0  50.049224  19.970379   749000.0    3.0   \n",
       "1      Warszawa    3.0  17828.0  52.249775  21.106886   240548.0    1.0   \n",
       "2        Kraków    2.0  22784.0  50.066964  19.920025   427000.0    2.0   \n",
       "3        Poznañ    2.0   4315.0  52.404212  16.882542  1290000.0    5.0   \n",
       "4      Warszawa    1.0  11770.0  52.212225  20.972630   996000.0    5.0   \n",
       "...         ...    ...      ...        ...        ...        ...    ...   \n",
       "23759    Poznañ    0.0   3976.0  52.449649  16.949408   543000.0    4.0   \n",
       "23760  Warszawa    4.0  10206.0  52.186109  20.948438   910000.0    3.0   \n",
       "23761    Poznañ    0.0   4952.0  52.397345  16.961939   430695.0    3.0   \n",
       "23762    Kraków    6.0  24148.0  50.024231  19.959569   359000.0    2.0   \n",
       "23763  Warszawa    2.0  10889.0  52.141039  21.032321   604800.0    3.0   \n",
       "\n",
       "           sq    year  \n",
       "0       74.05  2021.0  \n",
       "1       24.38  2021.0  \n",
       "2       37.00  1970.0  \n",
       "3      166.00  1935.0  \n",
       "4      105.00  2020.0  \n",
       "...       ...     ...  \n",
       "23759   77.00  2020.0  \n",
       "23760   71.00  2017.0  \n",
       "23761   50.67  2022.0  \n",
       "23762   38.86  2021.0  \n",
       "23763   63.00  1978.0  \n",
       "\n",
       "[23764 rows x 11 columns]"
      ]
     },
     "execution_count": 3,
     "metadata": {},
     "output_type": "execute_result"
    }
   ],
   "source": [
    "data"
   ]
  },
  {
   "cell_type": "code",
   "execution_count": 4,
   "metadata": {
    "execution": {
     "iopub.execute_input": "2021-03-10T03:13:31.163444Z",
     "iopub.status.busy": "2021-03-10T03:13:31.162752Z",
     "iopub.status.idle": "2021-03-10T03:13:31.188764Z",
     "shell.execute_reply": "2021-03-10T03:13:31.187938Z"
    },
    "papermill": {
     "duration": 0.043003,
     "end_time": "2021-03-10T03:13:31.188949",
     "exception": false,
     "start_time": "2021-03-10T03:13:31.145946",
     "status": "completed"
    },
    "tags": []
   },
   "outputs": [
    {
     "name": "stdout",
     "output_type": "stream",
     "text": [
      "<class 'pandas.core.frame.DataFrame'>\n",
      "RangeIndex: 23764 entries, 0 to 23763\n",
      "Data columns (total 11 columns):\n",
      " #   Column      Non-Null Count  Dtype  \n",
      "---  ------      --------------  -----  \n",
      " 0   Unnamed: 0  23764 non-null  int64  \n",
      " 1   address     23764 non-null  object \n",
      " 2   city        23764 non-null  object \n",
      " 3   floor       23764 non-null  float64\n",
      " 4   id          23764 non-null  float64\n",
      " 5   latitude    23764 non-null  float64\n",
      " 6   longitude   23764 non-null  float64\n",
      " 7   price       23764 non-null  float64\n",
      " 8   rooms       23764 non-null  float64\n",
      " 9   sq          23764 non-null  float64\n",
      " 10  year        23764 non-null  float64\n",
      "dtypes: float64(8), int64(1), object(2)\n",
      "memory usage: 2.0+ MB\n"
     ]
    }
   ],
   "source": [
    "data.info()"
   ]
  },
  {
   "cell_type": "markdown",
   "metadata": {
    "papermill": {
     "duration": 0.011809,
     "end_time": "2021-03-10T03:13:31.213602",
     "exception": false,
     "start_time": "2021-03-10T03:13:31.201793",
     "status": "completed"
    },
    "tags": []
   },
   "source": [
    "# Preprocessing"
   ]
  },
  {
   "cell_type": "code",
   "execution_count": 5,
   "metadata": {
    "execution": {
     "iopub.execute_input": "2021-03-10T03:13:31.246070Z",
     "iopub.status.busy": "2021-03-10T03:13:31.245402Z",
     "iopub.status.idle": "2021-03-10T03:13:31.247520Z",
     "shell.execute_reply": "2021-03-10T03:13:31.247985Z"
    },
    "papermill": {
     "duration": 0.022259,
     "end_time": "2021-03-10T03:13:31.248248",
     "exception": false,
     "start_time": "2021-03-10T03:13:31.225989",
     "status": "completed"
    },
    "tags": []
   },
   "outputs": [],
   "source": [
    "def preprocess_inputs(df):\n",
    "    df = df.copy()\n",
    "    \n",
    "    # Drop unused columns\n",
    "    df = df.drop(['Unnamed: 0', 'address', 'id'], axis=1)\n",
    "    \n",
    "    # Split df into X and y\n",
    "    y = df['price']\n",
    "    X = df.drop('price', axis=1)\n",
    "    \n",
    "    # Train-test split\n",
    "    X_train, X_test, y_train, y_test = train_test_split(X, y, train_size=0.7, shuffle=True, random_state=1)\n",
    "    \n",
    "    return X_train, X_test, y_train, y_test"
   ]
  },
  {
   "cell_type": "code",
   "execution_count": 6,
   "metadata": {
    "execution": {
     "iopub.execute_input": "2021-03-10T03:13:31.278624Z",
     "iopub.status.busy": "2021-03-10T03:13:31.277896Z",
     "iopub.status.idle": "2021-03-10T03:13:31.292601Z",
     "shell.execute_reply": "2021-03-10T03:13:31.293109Z"
    },
    "papermill": {
     "duration": 0.032286,
     "end_time": "2021-03-10T03:13:31.293316",
     "exception": false,
     "start_time": "2021-03-10T03:13:31.261030",
     "status": "completed"
    },
    "tags": []
   },
   "outputs": [],
   "source": [
    "X_train, X_test, y_train, y_test = preprocess_inputs(data)"
   ]
  },
  {
   "cell_type": "code",
   "execution_count": 7,
   "metadata": {
    "execution": {
     "iopub.execute_input": "2021-03-10T03:13:31.340471Z",
     "iopub.status.busy": "2021-03-10T03:13:31.339409Z",
     "iopub.status.idle": "2021-03-10T03:13:31.345005Z",
     "shell.execute_reply": "2021-03-10T03:13:31.344390Z"
    },
    "papermill": {
     "duration": 0.039396,
     "end_time": "2021-03-10T03:13:31.345154",
     "exception": false,
     "start_time": "2021-03-10T03:13:31.305758",
     "status": "completed"
    },
    "tags": []
   },
   "outputs": [
    {
     "data": {
      "text/html": [
       "<div>\n",
       "<style scoped>\n",
       "    .dataframe tbody tr th:only-of-type {\n",
       "        vertical-align: middle;\n",
       "    }\n",
       "\n",
       "    .dataframe tbody tr th {\n",
       "        vertical-align: top;\n",
       "    }\n",
       "\n",
       "    .dataframe thead th {\n",
       "        text-align: right;\n",
       "    }\n",
       "</style>\n",
       "<table border=\"1\" class=\"dataframe\">\n",
       "  <thead>\n",
       "    <tr style=\"text-align: right;\">\n",
       "      <th></th>\n",
       "      <th>city</th>\n",
       "      <th>floor</th>\n",
       "      <th>latitude</th>\n",
       "      <th>longitude</th>\n",
       "      <th>rooms</th>\n",
       "      <th>sq</th>\n",
       "      <th>year</th>\n",
       "    </tr>\n",
       "  </thead>\n",
       "  <tbody>\n",
       "    <tr>\n",
       "      <th>23266</th>\n",
       "      <td>Kraków</td>\n",
       "      <td>3.0</td>\n",
       "      <td>50.046943</td>\n",
       "      <td>19.997153</td>\n",
       "      <td>1.0</td>\n",
       "      <td>23.75</td>\n",
       "      <td>2020.0</td>\n",
       "    </tr>\n",
       "    <tr>\n",
       "      <th>4050</th>\n",
       "      <td>Warszawa</td>\n",
       "      <td>0.0</td>\n",
       "      <td>52.322818</td>\n",
       "      <td>21.057657</td>\n",
       "      <td>4.0</td>\n",
       "      <td>76.60</td>\n",
       "      <td>2002.0</td>\n",
       "    </tr>\n",
       "    <tr>\n",
       "      <th>20631</th>\n",
       "      <td>Kraków</td>\n",
       "      <td>0.0</td>\n",
       "      <td>50.023016</td>\n",
       "      <td>19.908364</td>\n",
       "      <td>2.0</td>\n",
       "      <td>76.45</td>\n",
       "      <td>2018.0</td>\n",
       "    </tr>\n",
       "    <tr>\n",
       "      <th>23295</th>\n",
       "      <td>Warszawa</td>\n",
       "      <td>1.0</td>\n",
       "      <td>52.245964</td>\n",
       "      <td>21.133045</td>\n",
       "      <td>2.0</td>\n",
       "      <td>35.17</td>\n",
       "      <td>2022.0</td>\n",
       "    </tr>\n",
       "    <tr>\n",
       "      <th>23585</th>\n",
       "      <td>Warszawa</td>\n",
       "      <td>0.0</td>\n",
       "      <td>52.188721</td>\n",
       "      <td>21.058435</td>\n",
       "      <td>3.0</td>\n",
       "      <td>49.00</td>\n",
       "      <td>1970.0</td>\n",
       "    </tr>\n",
       "    <tr>\n",
       "      <th>...</th>\n",
       "      <td>...</td>\n",
       "      <td>...</td>\n",
       "      <td>...</td>\n",
       "      <td>...</td>\n",
       "      <td>...</td>\n",
       "      <td>...</td>\n",
       "      <td>...</td>\n",
       "    </tr>\n",
       "    <tr>\n",
       "      <th>10955</th>\n",
       "      <td>Warszawa</td>\n",
       "      <td>4.0</td>\n",
       "      <td>52.277527</td>\n",
       "      <td>21.022353</td>\n",
       "      <td>2.0</td>\n",
       "      <td>37.50</td>\n",
       "      <td>1968.0</td>\n",
       "    </tr>\n",
       "    <tr>\n",
       "      <th>17289</th>\n",
       "      <td>Kraków</td>\n",
       "      <td>4.0</td>\n",
       "      <td>50.056192</td>\n",
       "      <td>19.928406</td>\n",
       "      <td>1.0</td>\n",
       "      <td>35.35</td>\n",
       "      <td>2020.0</td>\n",
       "    </tr>\n",
       "    <tr>\n",
       "      <th>5192</th>\n",
       "      <td>Warszawa</td>\n",
       "      <td>3.0</td>\n",
       "      <td>52.231958</td>\n",
       "      <td>21.006725</td>\n",
       "      <td>2.0</td>\n",
       "      <td>36.00</td>\n",
       "      <td>2020.0</td>\n",
       "    </tr>\n",
       "    <tr>\n",
       "      <th>12172</th>\n",
       "      <td>Poznañ</td>\n",
       "      <td>0.0</td>\n",
       "      <td>52.387661</td>\n",
       "      <td>16.914801</td>\n",
       "      <td>1.0</td>\n",
       "      <td>20.00</td>\n",
       "      <td>1902.0</td>\n",
       "    </tr>\n",
       "    <tr>\n",
       "      <th>235</th>\n",
       "      <td>Warszawa</td>\n",
       "      <td>1.0</td>\n",
       "      <td>52.193987</td>\n",
       "      <td>21.045781</td>\n",
       "      <td>2.0</td>\n",
       "      <td>38.60</td>\n",
       "      <td>2020.0</td>\n",
       "    </tr>\n",
       "  </tbody>\n",
       "</table>\n",
       "<p>16634 rows × 7 columns</p>\n",
       "</div>"
      ],
      "text/plain": [
       "           city  floor   latitude  longitude  rooms     sq    year\n",
       "23266    Kraków    3.0  50.046943  19.997153    1.0  23.75  2020.0\n",
       "4050   Warszawa    0.0  52.322818  21.057657    4.0  76.60  2002.0\n",
       "20631    Kraków    0.0  50.023016  19.908364    2.0  76.45  2018.0\n",
       "23295  Warszawa    1.0  52.245964  21.133045    2.0  35.17  2022.0\n",
       "23585  Warszawa    0.0  52.188721  21.058435    3.0  49.00  1970.0\n",
       "...         ...    ...        ...        ...    ...    ...     ...\n",
       "10955  Warszawa    4.0  52.277527  21.022353    2.0  37.50  1968.0\n",
       "17289    Kraków    4.0  50.056192  19.928406    1.0  35.35  2020.0\n",
       "5192   Warszawa    3.0  52.231958  21.006725    2.0  36.00  2020.0\n",
       "12172    Poznañ    0.0  52.387661  16.914801    1.0  20.00  1902.0\n",
       "235    Warszawa    1.0  52.193987  21.045781    2.0  38.60  2020.0\n",
       "\n",
       "[16634 rows x 7 columns]"
      ]
     },
     "execution_count": 7,
     "metadata": {},
     "output_type": "execute_result"
    }
   ],
   "source": [
    "X_train"
   ]
  },
  {
   "cell_type": "code",
   "execution_count": 8,
   "metadata": {
    "execution": {
     "iopub.execute_input": "2021-03-10T03:13:31.379502Z",
     "iopub.status.busy": "2021-03-10T03:13:31.378617Z",
     "iopub.status.idle": "2021-03-10T03:13:31.383694Z",
     "shell.execute_reply": "2021-03-10T03:13:31.383168Z"
    },
    "papermill": {
     "duration": 0.025684,
     "end_time": "2021-03-10T03:13:31.383846",
     "exception": false,
     "start_time": "2021-03-10T03:13:31.358162",
     "status": "completed"
    },
    "tags": []
   },
   "outputs": [
    {
     "data": {
      "text/plain": [
       "23266    329000.0\n",
       "4050     575000.0\n",
       "20631    890000.0\n",
       "23295    269051.0\n",
       "23585    549000.0\n",
       "           ...   \n",
       "10955    468750.0\n",
       "17289    618625.0\n",
       "5192     459000.0\n",
       "12172    187500.0\n",
       "235      620000.0\n",
       "Name: price, Length: 16634, dtype: float64"
      ]
     },
     "execution_count": 8,
     "metadata": {},
     "output_type": "execute_result"
    }
   ],
   "source": [
    "y_train"
   ]
  },
  {
   "cell_type": "markdown",
   "metadata": {
    "papermill": {
     "duration": 0.014049,
     "end_time": "2021-03-10T03:13:31.411464",
     "exception": false,
     "start_time": "2021-03-10T03:13:31.397415",
     "status": "completed"
    },
    "tags": []
   },
   "source": [
    "# Building Pipeline"
   ]
  },
  {
   "cell_type": "code",
   "execution_count": 9,
   "metadata": {
    "execution": {
     "iopub.execute_input": "2021-03-10T03:13:31.445535Z",
     "iopub.status.busy": "2021-03-10T03:13:31.444591Z",
     "iopub.status.idle": "2021-03-10T03:13:31.447465Z",
     "shell.execute_reply": "2021-03-10T03:13:31.447938Z"
    },
    "papermill": {
     "duration": 0.023292,
     "end_time": "2021-03-10T03:13:31.448128",
     "exception": false,
     "start_time": "2021-03-10T03:13:31.424836",
     "status": "completed"
    },
    "tags": []
   },
   "outputs": [],
   "source": [
    "nominal_transformer = Pipeline(steps=[\n",
    "    ('onehot', OneHotEncoder(sparse=False))\n",
    "])\n",
    "\n",
    "preprocessor = ColumnTransformer(transformers=[\n",
    "    ('nominal', nominal_transformer, ['city'])\n",
    "], remainder='passthrough')\n",
    "\n",
    "model = Pipeline(steps=[\n",
    "    ('preprocessor', preprocessor),\n",
    "    ('scaler', StandardScaler()),\n",
    "    ('regressor', GradientBoostingRegressor())\n",
    "])"
   ]
  },
  {
   "cell_type": "markdown",
   "metadata": {
    "papermill": {
     "duration": 0.013485,
     "end_time": "2021-03-10T03:13:31.475214",
     "exception": false,
     "start_time": "2021-03-10T03:13:31.461729",
     "status": "completed"
    },
    "tags": []
   },
   "source": [
    "# Training"
   ]
  },
  {
   "cell_type": "code",
   "execution_count": 10,
   "metadata": {
    "execution": {
     "iopub.execute_input": "2021-03-10T03:13:31.518633Z",
     "iopub.status.busy": "2021-03-10T03:13:31.517926Z",
     "iopub.status.idle": "2021-03-10T03:13:33.325487Z",
     "shell.execute_reply": "2021-03-10T03:13:33.325977Z"
    },
    "papermill": {
     "duration": 1.837235,
     "end_time": "2021-03-10T03:13:33.326180",
     "exception": false,
     "start_time": "2021-03-10T03:13:31.488945",
     "status": "completed"
    },
    "tags": []
   },
   "outputs": [
    {
     "data": {
      "text/plain": [
       "Pipeline(steps=[('preprocessor',\n",
       "                 ColumnTransformer(remainder='passthrough',\n",
       "                                   transformers=[('nominal',\n",
       "                                                  Pipeline(steps=[('onehot',\n",
       "                                                                   OneHotEncoder(sparse=False))]),\n",
       "                                                  ['city'])])),\n",
       "                ('scaler', StandardScaler()),\n",
       "                ('regressor', GradientBoostingRegressor())])"
      ]
     },
     "execution_count": 10,
     "metadata": {},
     "output_type": "execute_result"
    }
   ],
   "source": [
    "model.fit(X_train, y_train)"
   ]
  },
  {
   "cell_type": "markdown",
   "metadata": {
    "papermill": {
     "duration": 0.013608,
     "end_time": "2021-03-10T03:13:33.353947",
     "exception": false,
     "start_time": "2021-03-10T03:13:33.340339",
     "status": "completed"
    },
    "tags": []
   },
   "source": [
    "# Results"
   ]
  },
  {
   "cell_type": "code",
   "execution_count": 11,
   "metadata": {
    "execution": {
     "iopub.execute_input": "2021-03-10T03:13:33.394183Z",
     "iopub.status.busy": "2021-03-10T03:13:33.393465Z",
     "iopub.status.idle": "2021-03-10T03:13:33.433625Z",
     "shell.execute_reply": "2021-03-10T03:13:33.433045Z"
    },
    "papermill": {
     "duration": 0.065888,
     "end_time": "2021-03-10T03:13:33.433790",
     "exception": false,
     "start_time": "2021-03-10T03:13:33.367902",
     "status": "completed"
    },
    "tags": []
   },
   "outputs": [
    {
     "name": "stdout",
     "output_type": "stream",
     "text": [
      "RMSE: 246098.14872\n",
      "R^2 Score: 0.78564\n"
     ]
    }
   ],
   "source": [
    "y_pred = model.predict(X_test)\n",
    "\n",
    "rmse = np.sqrt(np.mean((y_test - y_pred)**2))\n",
    "print(\"RMSE: {:.5f}\".format(rmse))\n",
    "\n",
    "baseline_errors = np.sum((y_test - np.mean(y_test))**2)\n",
    "model_errors = np.sum((y_test - y_pred)**2)\n",
    "\n",
    "r2 = 1 - (model_errors / baseline_errors)\n",
    "print(\"R^2 Score: {:.5f}\".format(r2))"
   ]
  },
  {
   "cell_type": "markdown",
   "metadata": {
    "papermill": {
     "duration": 0.014541,
     "end_time": "2021-03-10T03:13:33.462933",
     "exception": false,
     "start_time": "2021-03-10T03:13:33.448392",
     "status": "completed"
    },
    "tags": []
   },
   "source": [
    "# Data Every Day  \n",
    "\n",
    "This notebook is featured on Data Every Day, a YouTube series where I train models on a new dataset each day.  \n",
    "\n",
    "***\n",
    "\n",
    "Check it out!  \n",
    "https://youtu.be/9-T48384oM0"
   ]
  }
 ],
 "metadata": {
  "kernelspec": {
   "display_name": "Python 3",
   "language": "python",
   "name": "python3"
  },
  "language_info": {
   "codemirror_mode": {
    "name": "ipython",
    "version": 3
   },
   "file_extension": ".py",
   "mimetype": "text/x-python",
   "name": "python",
   "nbconvert_exporter": "python",
   "pygments_lexer": "ipython3",
   "version": "3.7.9"
  },
  "papermill": {
   "default_parameters": {},
   "duration": 12.091876,
   "end_time": "2021-03-10T03:13:34.287439",
   "environment_variables": {},
   "exception": null,
   "input_path": "__notebook__.ipynb",
   "output_path": "__notebook__.ipynb",
   "parameters": {},
   "start_time": "2021-03-10T03:13:22.195563",
   "version": "2.2.2"
  }
 },
 "nbformat": 4,
 "nbformat_minor": 4
}
